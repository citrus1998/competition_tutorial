{
  "nbformat": 4,
  "nbformat_minor": 0,
  "metadata": {
    "colab": {
      "name": "catboost.ipynb",
      "provenance": [],
      "authorship_tag": "ABX9TyNJphwy9/AmCsVUpl4vqfkY",
      "include_colab_link": true
    },
    "kernelspec": {
      "name": "python3",
      "display_name": "Python 3"
    },
    "language_info": {
      "name": "python"
    }
  },
  "cells": [
    {
      "cell_type": "markdown",
      "metadata": {
        "id": "view-in-github",
        "colab_type": "text"
      },
      "source": [
        "<a href=\"https://colab.research.google.com/github/citrus1998/competition_tutorial/blob/main/catboost.ipynb\" target=\"_parent\"><img src=\"https://colab.research.google.com/assets/colab-badge.svg\" alt=\"Open In Colab\"/></a>"
      ]
    },
    {
      "cell_type": "code",
      "source": [
        "!pip install -U catboost"
      ],
      "metadata": {
        "colab": {
          "base_uri": "https://localhost:8080/"
        },
        "id": "q8XQrTeGud-J",
        "outputId": "d06f884b-3f99-42c5-8baa-f310837f79a7"
      },
      "execution_count": 4,
      "outputs": [
        {
          "output_type": "stream",
          "name": "stdout",
          "text": [
            "Collecting catboost\n",
            "  Downloading catboost-1.0.4-cp37-none-manylinux1_x86_64.whl (76.1 MB)\n",
            "\u001b[K     |████████████████████████████████| 76.1 MB 1.3 MB/s \n",
            "\u001b[?25hRequirement already satisfied: numpy>=1.16.0 in /usr/local/lib/python3.7/dist-packages (from catboost) (1.21.5)\n",
            "Requirement already satisfied: plotly in /usr/local/lib/python3.7/dist-packages (from catboost) (5.5.0)\n",
            "Requirement already satisfied: matplotlib in /usr/local/lib/python3.7/dist-packages (from catboost) (3.2.2)\n",
            "Requirement already satisfied: scipy in /usr/local/lib/python3.7/dist-packages (from catboost) (1.4.1)\n",
            "Requirement already satisfied: pandas>=0.24.0 in /usr/local/lib/python3.7/dist-packages (from catboost) (1.3.5)\n",
            "Requirement already satisfied: six in /usr/local/lib/python3.7/dist-packages (from catboost) (1.15.0)\n",
            "Requirement already satisfied: graphviz in /usr/local/lib/python3.7/dist-packages (from catboost) (0.10.1)\n",
            "Requirement already satisfied: python-dateutil>=2.7.3 in /usr/local/lib/python3.7/dist-packages (from pandas>=0.24.0->catboost) (2.8.2)\n",
            "Requirement already satisfied: pytz>=2017.3 in /usr/local/lib/python3.7/dist-packages (from pandas>=0.24.0->catboost) (2018.9)\n",
            "Requirement already satisfied: cycler>=0.10 in /usr/local/lib/python3.7/dist-packages (from matplotlib->catboost) (0.11.0)\n",
            "Requirement already satisfied: kiwisolver>=1.0.1 in /usr/local/lib/python3.7/dist-packages (from matplotlib->catboost) (1.3.2)\n",
            "Requirement already satisfied: pyparsing!=2.0.4,!=2.1.2,!=2.1.6,>=2.0.1 in /usr/local/lib/python3.7/dist-packages (from matplotlib->catboost) (3.0.7)\n",
            "Requirement already satisfied: tenacity>=6.2.0 in /usr/local/lib/python3.7/dist-packages (from plotly->catboost) (8.0.1)\n",
            "Installing collected packages: catboost\n",
            "Successfully installed catboost-1.0.4\n"
          ]
        }
      ]
    },
    {
      "cell_type": "code",
      "execution_count": 2,
      "metadata": {
        "id": "woNZKnkVuF0h"
      },
      "outputs": [],
      "source": [
        "import time\n",
        "import pandas as pd\n",
        "import numpy as np\n",
        "from keras.datasets import mnist\n",
        "from sklearn.model_selection import train_test_split"
      ]
    },
    {
      "cell_type": "code",
      "source": [
        "from catboost import Pool\n",
        "from catboost import CatBoostClassifier"
      ],
      "metadata": {
        "id": "uZfjAVQRuRWt"
      },
      "execution_count": 5,
      "outputs": []
    },
    {
      "cell_type": "code",
      "source": [
        "np.random.seed(0)\n",
        "(X_train, y_train), (X_test, y_test) = mnist.load_data()"
      ],
      "metadata": {
        "colab": {
          "base_uri": "https://localhost:8080/"
        },
        "id": "s9yJsq2IuoAg",
        "outputId": "34f86a15-0796-44dd-935f-be45c9b31ca8"
      },
      "execution_count": 6,
      "outputs": [
        {
          "output_type": "stream",
          "name": "stdout",
          "text": [
            "Downloading data from https://storage.googleapis.com/tensorflow/tf-keras-datasets/mnist.npz\n",
            "11493376/11490434 [==============================] - 0s 0us/step\n",
            "11501568/11490434 [==============================] - 0s 0us/step\n"
          ]
        }
      ]
    },
    {
      "cell_type": "code",
      "source": [
        "print(\"(X_train : %d) (y_train : %d) (X_test : %d) (y_test : %d)\" % (len(X_train), len(y_train), len(X_test), len(y_test)))"
      ],
      "metadata": {
        "colab": {
          "base_uri": "https://localhost:8080/"
        },
        "id": "V5O32UiiuxU9",
        "outputId": "c1e2800f-7b66-46f9-8ce1-b3eab4787114"
      },
      "execution_count": 8,
      "outputs": [
        {
          "output_type": "stream",
          "name": "stdout",
          "text": [
            "(X_train : 60000) (y_train : 60000) (X_test : 10000) (y_test : 10000)\n"
          ]
        }
      ]
    },
    {
      "cell_type": "code",
      "source": [
        "X_train, X_val, y_train, y_val = train_test_split(X_train, y_train, test_size = 0.2)"
      ],
      "metadata": {
        "id": "MBuZU_DMvSqt"
      },
      "execution_count": 10,
      "outputs": []
    },
    {
      "cell_type": "code",
      "source": [
        "print(\"(X_train : %d) (X_val : %d) (y_train : %d) (y_val : %d)\" % (len(X_train), len(X_val), len(y_train), len(y_val)))"
      ],
      "metadata": {
        "colab": {
          "base_uri": "https://localhost:8080/"
        },
        "id": "Tcq_bqUXyafo",
        "outputId": "aacc9026-54d8-4ffe-c0e1-9a5972e02d24"
      },
      "execution_count": 11,
      "outputs": [
        {
          "output_type": "stream",
          "name": "stdout",
          "text": [
            "(X_train : 48000) (X_val : 12000) (y_train : 48000) (y_val : 12000)\n"
          ]
        }
      ]
    },
    {
      "cell_type": "code",
      "source": [
        "''' Matrix -> 1D Vector '''\n",
        "X_train = X_train.reshape(-1, 784)\n",
        "X_val = X_val.reshape(-1, 784)\n",
        "X_test = X_test.reshape(-1, 784)"
      ],
      "metadata": {
        "id": "9CEtq2Acynal"
      },
      "execution_count": 14,
      "outputs": []
    },
    {
      "cell_type": "code",
      "source": [
        "''' Normalization '''\n",
        "X_train = X_train.astype('float32')\n",
        "X_val = X_val.astype('float32')\n",
        "X_test = X_test.astype('float32')\n",
        "X_train /= 255\n",
        "X_val /= 255\n",
        "X_test /= 255"
      ],
      "metadata": {
        "id": "wfVXGUluy2iP"
      },
      "execution_count": 16,
      "outputs": []
    },
    {
      "cell_type": "code",
      "source": [
        "train_pool = Pool(X_train, y_train)\n",
        "val_pool = Pool(X_val, y_val)"
      ],
      "metadata": {
        "id": "UjVXSgnVzYrz"
      },
      "execution_count": 17,
      "outputs": []
    },
    {
      "cell_type": "code",
      "source": [
        "params = {\n",
        "    'early_stopping_rounds' : 10,\n",
        "    'iterations' : 100, \n",
        "    'custom_loss' :['Accuracy'], \n",
        "    'random_seed' :42\n",
        "}"
      ],
      "metadata": {
        "id": "Pidl8Dd00aqe"
      },
      "execution_count": 18,
      "outputs": []
    },
    {
      "cell_type": "code",
      "source": [
        "''' Model '''\n",
        "model = CatBoostClassifier(**params)\n",
        "\n",
        "''' Training '''\n",
        "cab = model.fit(train_pool, eval_set=val_pool)\n",
        "\n",
        "''' Predict '''\n",
        "pred = cab.predict(X_test)"
      ],
      "metadata": {
        "colab": {
          "base_uri": "https://localhost:8080/"
        },
        "id": "hvK68YeT09ij",
        "outputId": "ce59314d-138b-4efb-8345-5608a204c461"
      },
      "execution_count": 25,
      "outputs": [
        {
          "output_type": "stream",
          "name": "stdout",
          "text": [
            "Learning rate set to 0.281159\n",
            "0:\tlearn: 1.5746723\ttest: 1.5731968\tbest: 1.5731968 (0)\ttotal: 3.14s\tremaining: 5m 10s\n",
            "1:\tlearn: 1.3228033\ttest: 1.3252472\tbest: 1.3252472 (1)\ttotal: 6.26s\tremaining: 5m 6s\n",
            "2:\tlearn: 1.0915287\ttest: 1.0978054\tbest: 1.0978054 (2)\ttotal: 9.43s\tremaining: 5m 4s\n",
            "3:\tlearn: 0.9608848\ttest: 0.9668624\tbest: 0.9668624 (3)\ttotal: 12.5s\tremaining: 5m\n",
            "4:\tlearn: 0.8517554\ttest: 0.8575492\tbest: 0.8575492 (4)\ttotal: 15.6s\tremaining: 4m 57s\n",
            "5:\tlearn: 0.7708352\ttest: 0.7775942\tbest: 0.7775942 (5)\ttotal: 18.8s\tremaining: 4m 53s\n",
            "6:\tlearn: 0.7033119\ttest: 0.7110318\tbest: 0.7110318 (6)\ttotal: 21.9s\tremaining: 4m 50s\n",
            "7:\tlearn: 0.6549993\ttest: 0.6621621\tbest: 0.6621621 (7)\ttotal: 24.9s\tremaining: 4m 46s\n",
            "8:\tlearn: 0.5982515\ttest: 0.6061512\tbest: 0.6061512 (8)\ttotal: 28s\tremaining: 4m 43s\n",
            "9:\tlearn: 0.5470616\ttest: 0.5542339\tbest: 0.5542339 (9)\ttotal: 31.1s\tremaining: 4m 40s\n",
            "10:\tlearn: 0.5113016\ttest: 0.5185901\tbest: 0.5185901 (10)\ttotal: 34.2s\tremaining: 4m 36s\n",
            "11:\tlearn: 0.4728952\ttest: 0.4804952\tbest: 0.4804952 (11)\ttotal: 37.3s\tremaining: 4m 33s\n",
            "12:\tlearn: 0.4469578\ttest: 0.4544130\tbest: 0.4544130 (12)\ttotal: 40.4s\tremaining: 4m 30s\n",
            "13:\tlearn: 0.4200534\ttest: 0.4274769\tbest: 0.4274769 (13)\ttotal: 43.6s\tremaining: 4m 27s\n",
            "14:\tlearn: 0.3991648\ttest: 0.4064443\tbest: 0.4064443 (14)\ttotal: 46.7s\tremaining: 4m 24s\n",
            "15:\tlearn: 0.3792506\ttest: 0.3867657\tbest: 0.3867657 (15)\ttotal: 49.8s\tremaining: 4m 21s\n",
            "16:\tlearn: 0.3602097\ttest: 0.3680564\tbest: 0.3680564 (16)\ttotal: 52.9s\tremaining: 4m 18s\n",
            "17:\tlearn: 0.3441196\ttest: 0.3523912\tbest: 0.3523912 (17)\ttotal: 56.1s\tremaining: 4m 15s\n",
            "18:\tlearn: 0.3294688\ttest: 0.3375021\tbest: 0.3375021 (18)\ttotal: 59.2s\tremaining: 4m 12s\n",
            "19:\tlearn: 0.3204234\ttest: 0.3288003\tbest: 0.3288003 (19)\ttotal: 1m 2s\tremaining: 4m 9s\n",
            "20:\tlearn: 0.3103708\ttest: 0.3185165\tbest: 0.3185165 (20)\ttotal: 1m 5s\tremaining: 4m 6s\n",
            "21:\tlearn: 0.2994707\ttest: 0.3083082\tbest: 0.3083082 (21)\ttotal: 1m 8s\tremaining: 4m 3s\n",
            "22:\tlearn: 0.2937952\ttest: 0.3025864\tbest: 0.3025864 (22)\ttotal: 1m 11s\tremaining: 4m\n",
            "23:\tlearn: 0.2835648\ttest: 0.2929485\tbest: 0.2929485 (23)\ttotal: 1m 15s\tremaining: 3m 57s\n",
            "24:\tlearn: 0.2754815\ttest: 0.2852033\tbest: 0.2852033 (24)\ttotal: 1m 18s\tremaining: 3m 54s\n",
            "25:\tlearn: 0.2653786\ttest: 0.2759147\tbest: 0.2759147 (25)\ttotal: 1m 21s\tremaining: 3m 51s\n",
            "26:\tlearn: 0.2591198\ttest: 0.2698083\tbest: 0.2698083 (26)\ttotal: 1m 24s\tremaining: 3m 48s\n",
            "27:\tlearn: 0.2524605\ttest: 0.2629508\tbest: 0.2629508 (27)\ttotal: 1m 27s\tremaining: 3m 45s\n",
            "28:\tlearn: 0.2463817\ttest: 0.2570907\tbest: 0.2570907 (28)\ttotal: 1m 30s\tremaining: 3m 42s\n",
            "29:\tlearn: 0.2418038\ttest: 0.2528078\tbest: 0.2528078 (29)\ttotal: 1m 33s\tremaining: 3m 39s\n",
            "30:\tlearn: 0.2362097\ttest: 0.2478501\tbest: 0.2478501 (30)\ttotal: 1m 36s\tremaining: 3m 35s\n",
            "31:\tlearn: 0.2293317\ttest: 0.2414092\tbest: 0.2414092 (31)\ttotal: 1m 40s\tremaining: 3m 32s\n",
            "32:\tlearn: 0.2243772\ttest: 0.2366680\tbest: 0.2366680 (32)\ttotal: 1m 43s\tremaining: 3m 29s\n",
            "33:\tlearn: 0.2182445\ttest: 0.2308925\tbest: 0.2308925 (33)\ttotal: 1m 46s\tremaining: 3m 26s\n",
            "34:\tlearn: 0.2135991\ttest: 0.2263001\tbest: 0.2263001 (34)\ttotal: 1m 49s\tremaining: 3m 23s\n",
            "35:\tlearn: 0.2101634\ttest: 0.2228642\tbest: 0.2228642 (35)\ttotal: 1m 52s\tremaining: 3m 20s\n",
            "36:\tlearn: 0.2078185\ttest: 0.2208127\tbest: 0.2208127 (36)\ttotal: 1m 55s\tremaining: 3m 16s\n",
            "37:\tlearn: 0.2045048\ttest: 0.2176252\tbest: 0.2176252 (37)\ttotal: 1m 58s\tremaining: 3m 13s\n",
            "38:\tlearn: 0.1993299\ttest: 0.2127278\tbest: 0.2127278 (38)\ttotal: 2m 1s\tremaining: 3m 10s\n",
            "39:\tlearn: 0.1934753\ttest: 0.2069433\tbest: 0.2069433 (39)\ttotal: 2m 5s\tremaining: 3m 7s\n",
            "40:\tlearn: 0.1875528\ttest: 0.2011997\tbest: 0.2011997 (40)\ttotal: 2m 8s\tremaining: 3m 4s\n",
            "41:\tlearn: 0.1841568\ttest: 0.1977786\tbest: 0.1977786 (41)\ttotal: 2m 11s\tremaining: 3m 1s\n",
            "42:\tlearn: 0.1831141\ttest: 0.1966879\tbest: 0.1966879 (42)\ttotal: 2m 14s\tremaining: 2m 58s\n",
            "43:\tlearn: 0.1816224\ttest: 0.1953424\tbest: 0.1953424 (43)\ttotal: 2m 17s\tremaining: 2m 54s\n",
            "44:\tlearn: 0.1809994\ttest: 0.1946867\tbest: 0.1946867 (44)\ttotal: 2m 20s\tremaining: 2m 51s\n",
            "45:\tlearn: 0.1806966\ttest: 0.1944740\tbest: 0.1944740 (45)\ttotal: 2m 23s\tremaining: 2m 48s\n",
            "46:\tlearn: 0.1773848\ttest: 0.1910132\tbest: 0.1910132 (46)\ttotal: 2m 26s\tremaining: 2m 45s\n",
            "47:\tlearn: 0.1771152\ttest: 0.1908110\tbest: 0.1908110 (47)\ttotal: 2m 29s\tremaining: 2m 42s\n",
            "48:\tlearn: 0.1770933\ttest: 0.1907943\tbest: 0.1907943 (48)\ttotal: 2m 32s\tremaining: 2m 39s\n",
            "49:\tlearn: 0.1748055\ttest: 0.1889466\tbest: 0.1889466 (49)\ttotal: 2m 35s\tremaining: 2m 35s\n",
            "50:\tlearn: 0.1745981\ttest: 0.1887184\tbest: 0.1887184 (50)\ttotal: 2m 39s\tremaining: 2m 32s\n",
            "51:\tlearn: 0.1741534\ttest: 0.1882018\tbest: 0.1882018 (51)\ttotal: 2m 42s\tremaining: 2m 29s\n",
            "52:\tlearn: 0.1732441\ttest: 0.1873794\tbest: 0.1873794 (52)\ttotal: 2m 45s\tremaining: 2m 26s\n",
            "53:\tlearn: 0.1720674\ttest: 0.1862197\tbest: 0.1862197 (53)\ttotal: 2m 48s\tremaining: 2m 23s\n",
            "54:\tlearn: 0.1703858\ttest: 0.1843076\tbest: 0.1843076 (54)\ttotal: 2m 51s\tremaining: 2m 20s\n",
            "55:\tlearn: 0.1698951\ttest: 0.1840715\tbest: 0.1840715 (55)\ttotal: 2m 54s\tremaining: 2m 17s\n",
            "56:\tlearn: 0.1694844\ttest: 0.1837845\tbest: 0.1837845 (56)\ttotal: 2m 58s\tremaining: 2m 14s\n",
            "57:\tlearn: 0.1688338\ttest: 0.1831929\tbest: 0.1831929 (57)\ttotal: 3m 1s\tremaining: 2m 11s\n",
            "58:\tlearn: 0.1672977\ttest: 0.1821082\tbest: 0.1821082 (58)\ttotal: 3m 4s\tremaining: 2m 8s\n",
            "59:\tlearn: 0.1660918\ttest: 0.1811283\tbest: 0.1811283 (59)\ttotal: 3m 7s\tremaining: 2m 4s\n",
            "60:\tlearn: 0.1649310\ttest: 0.1802512\tbest: 0.1802512 (60)\ttotal: 3m 10s\tremaining: 2m 1s\n",
            "61:\tlearn: 0.1639972\ttest: 0.1794202\tbest: 0.1794202 (61)\ttotal: 3m 13s\tremaining: 1m 58s\n",
            "62:\tlearn: 0.1626169\ttest: 0.1782635\tbest: 0.1782635 (62)\ttotal: 3m 16s\tremaining: 1m 55s\n",
            "63:\tlearn: 0.1602122\ttest: 0.1757180\tbest: 0.1757180 (63)\ttotal: 3m 19s\tremaining: 1m 52s\n",
            "64:\tlearn: 0.1595748\ttest: 0.1753969\tbest: 0.1753969 (64)\ttotal: 3m 22s\tremaining: 1m 49s\n",
            "65:\tlearn: 0.1593826\ttest: 0.1753421\tbest: 0.1753421 (65)\ttotal: 3m 26s\tremaining: 1m 46s\n",
            "66:\tlearn: 0.1587081\ttest: 0.1749156\tbest: 0.1749156 (66)\ttotal: 3m 29s\tremaining: 1m 43s\n",
            "67:\tlearn: 0.1584588\ttest: 0.1747757\tbest: 0.1747757 (67)\ttotal: 3m 32s\tremaining: 1m 39s\n",
            "68:\tlearn: 0.1583213\ttest: 0.1745615\tbest: 0.1745615 (68)\ttotal: 3m 35s\tremaining: 1m 36s\n",
            "69:\tlearn: 0.1578628\ttest: 0.1739656\tbest: 0.1739656 (69)\ttotal: 3m 38s\tremaining: 1m 33s\n",
            "70:\tlearn: 0.1559702\ttest: 0.1725313\tbest: 0.1725313 (70)\ttotal: 3m 41s\tremaining: 1m 30s\n",
            "71:\tlearn: 0.1552490\ttest: 0.1719696\tbest: 0.1719696 (71)\ttotal: 3m 44s\tremaining: 1m 27s\n",
            "72:\tlearn: 0.1546180\ttest: 0.1713924\tbest: 0.1713924 (72)\ttotal: 3m 47s\tremaining: 1m 24s\n",
            "73:\tlearn: 0.1542971\ttest: 0.1709874\tbest: 0.1709874 (73)\ttotal: 3m 50s\tremaining: 1m 21s\n",
            "74:\tlearn: 0.1533217\ttest: 0.1703179\tbest: 0.1703179 (74)\ttotal: 3m 53s\tremaining: 1m 17s\n",
            "75:\tlearn: 0.1533137\ttest: 0.1703170\tbest: 0.1703170 (75)\ttotal: 3m 57s\tremaining: 1m 14s\n",
            "76:\tlearn: 0.1533024\ttest: 0.1703158\tbest: 0.1703158 (76)\ttotal: 4m\tremaining: 1m 11s\n",
            "77:\tlearn: 0.1527287\ttest: 0.1699993\tbest: 0.1699993 (77)\ttotal: 4m 3s\tremaining: 1m 8s\n",
            "78:\tlearn: 0.1527196\ttest: 0.1699988\tbest: 0.1699988 (78)\ttotal: 4m 6s\tremaining: 1m 5s\n",
            "79:\tlearn: 0.1515495\ttest: 0.1691740\tbest: 0.1691740 (79)\ttotal: 4m 9s\tremaining: 1m 2s\n",
            "80:\tlearn: 0.1511831\ttest: 0.1688097\tbest: 0.1688097 (80)\ttotal: 4m 12s\tremaining: 59.2s\n",
            "81:\tlearn: 0.1508321\ttest: 0.1684364\tbest: 0.1684364 (81)\ttotal: 4m 15s\tremaining: 56.1s\n",
            "82:\tlearn: 0.1504036\ttest: 0.1680931\tbest: 0.1680931 (82)\ttotal: 4m 18s\tremaining: 53s\n",
            "83:\tlearn: 0.1502155\ttest: 0.1679064\tbest: 0.1679064 (83)\ttotal: 4m 21s\tremaining: 49.9s\n",
            "84:\tlearn: 0.1487742\ttest: 0.1667426\tbest: 0.1667426 (84)\ttotal: 4m 24s\tremaining: 46.7s\n",
            "85:\tlearn: 0.1485848\ttest: 0.1666427\tbest: 0.1666427 (85)\ttotal: 4m 27s\tremaining: 43.6s\n",
            "86:\tlearn: 0.1483831\ttest: 0.1664903\tbest: 0.1664903 (86)\ttotal: 4m 30s\tremaining: 40.5s\n",
            "87:\tlearn: 0.1482966\ttest: 0.1664385\tbest: 0.1664385 (87)\ttotal: 4m 34s\tremaining: 37.4s\n",
            "88:\tlearn: 0.1473006\ttest: 0.1655433\tbest: 0.1655433 (88)\ttotal: 4m 37s\tremaining: 34.3s\n",
            "89:\tlearn: 0.1466016\ttest: 0.1646903\tbest: 0.1646903 (89)\ttotal: 4m 40s\tremaining: 31.1s\n",
            "90:\tlearn: 0.1452734\ttest: 0.1636637\tbest: 0.1636637 (90)\ttotal: 4m 43s\tremaining: 28s\n",
            "91:\tlearn: 0.1439492\ttest: 0.1629199\tbest: 0.1629199 (91)\ttotal: 4m 46s\tremaining: 24.9s\n",
            "92:\tlearn: 0.1434537\ttest: 0.1626101\tbest: 0.1626101 (92)\ttotal: 4m 49s\tremaining: 21.8s\n",
            "93:\tlearn: 0.1430538\ttest: 0.1623321\tbest: 0.1623321 (93)\ttotal: 4m 52s\tremaining: 18.7s\n",
            "94:\tlearn: 0.1417990\ttest: 0.1610723\tbest: 0.1610723 (94)\ttotal: 4m 55s\tremaining: 15.6s\n",
            "95:\tlearn: 0.1406192\ttest: 0.1601283\tbest: 0.1601283 (95)\ttotal: 4m 58s\tremaining: 12.5s\n",
            "96:\tlearn: 0.1391547\ttest: 0.1590305\tbest: 0.1590305 (96)\ttotal: 5m 2s\tremaining: 9.34s\n",
            "97:\tlearn: 0.1385790\ttest: 0.1585434\tbest: 0.1585434 (97)\ttotal: 5m 5s\tremaining: 6.23s\n",
            "98:\tlearn: 0.1384747\ttest: 0.1584914\tbest: 0.1584914 (98)\ttotal: 5m 8s\tremaining: 3.11s\n",
            "99:\tlearn: 0.1383472\ttest: 0.1583642\tbest: 0.1583642 (99)\ttotal: 5m 11s\tremaining: 0us\n",
            "\n",
            "bestTest = 0.1583642048\n",
            "bestIteration = 99\n",
            "\n"
          ]
        }
      ]
    },
    {
      "cell_type": "code",
      "source": [
        "from sklearn.metrics import accuracy_score"
      ],
      "metadata": {
        "id": "Qf1dbsh91_H8"
      },
      "execution_count": 20,
      "outputs": []
    },
    {
      "cell_type": "code",
      "source": [
        "print('accuracy_score:{}'.format(accuracy_score(y_test, pred)))"
      ],
      "metadata": {
        "colab": {
          "base_uri": "https://localhost:8080/"
        },
        "id": "xzwsjwxW103s",
        "outputId": "f7415fe0-922d-418e-8bb8-268021da1028"
      },
      "execution_count": 21,
      "outputs": [
        {
          "output_type": "stream",
          "name": "stdout",
          "text": [
            "accuracy_score:0.9565\n"
          ]
        }
      ]
    }
  ]
}